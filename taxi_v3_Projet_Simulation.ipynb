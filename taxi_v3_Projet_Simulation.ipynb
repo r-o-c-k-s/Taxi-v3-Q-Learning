{
  "nbformat": 4,
  "nbformat_minor": 0,
  "metadata": {
    "colab": {
      "provenance": []
    },
    "kernelspec": {
      "name": "python3",
      "display_name": "Python 3"
    },
    "language_info": {
      "name": "python"
    }
  },
  "cells": [
    {
      "cell_type": "code",
      "execution_count": 2,
      "metadata": {
        "colab": {
          "base_uri": "https://localhost:8080/"
        },
        "id": "6SAEXlsl_FDR",
        "outputId": "676f80f0-f38a-4a7e-afcc-bdfc4bd2466d"
      },
      "outputs": [
        {
          "output_type": "stream",
          "name": "stdout",
          "text": [
            "Found existing installation: mujoco-py 2.1.2.14\n",
            "Uninstalling mujoco-py-2.1.2.14:\n",
            "  Successfully uninstalled mujoco-py-2.1.2.14\n",
            "Collecting mujoco-py==2.1.2.14\n",
            "  Using cached mujoco_py-2.1.2.14-py3-none-any.whl.metadata (669 bytes)\n",
            "Requirement already satisfied: glfw>=1.4.0 in /usr/local/lib/python3.10/dist-packages (from mujoco-py==2.1.2.14) (2.8.0)\n",
            "Requirement already satisfied: numpy>=1.11 in /usr/local/lib/python3.10/dist-packages (from mujoco-py==2.1.2.14) (1.26.4)\n",
            "Requirement already satisfied: Cython>=0.27.2 in /usr/local/lib/python3.10/dist-packages (from mujoco-py==2.1.2.14) (3.0.11)\n",
            "Requirement already satisfied: imageio>=2.1.2 in /usr/local/lib/python3.10/dist-packages (from mujoco-py==2.1.2.14) (2.36.1)\n",
            "Requirement already satisfied: cffi>=1.10 in /usr/local/lib/python3.10/dist-packages (from mujoco-py==2.1.2.14) (1.17.1)\n",
            "Requirement already satisfied: fasteners~=0.15 in /usr/local/lib/python3.10/dist-packages (from mujoco-py==2.1.2.14) (0.19)\n",
            "Requirement already satisfied: pycparser in /usr/local/lib/python3.10/dist-packages (from cffi>=1.10->mujoco-py==2.1.2.14) (2.22)\n",
            "Requirement already satisfied: pillow>=8.3.2 in /usr/local/lib/python3.10/dist-packages (from imageio>=2.1.2->mujoco-py==2.1.2.14) (11.0.0)\n",
            "Using cached mujoco_py-2.1.2.14-py3-none-any.whl (2.4 MB)\n",
            "Installing collected packages: mujoco-py\n",
            "Successfully installed mujoco-py-2.1.2.14\n",
            "Requirement already satisfied: tensorflow in /usr/local/lib/python3.10/dist-packages (2.17.1)\n",
            "Requirement already satisfied: absl-py>=1.0.0 in /usr/local/lib/python3.10/dist-packages (from tensorflow) (1.4.0)\n",
            "Requirement already satisfied: astunparse>=1.6.0 in /usr/local/lib/python3.10/dist-packages (from tensorflow) (1.6.3)\n",
            "Requirement already satisfied: flatbuffers>=24.3.25 in /usr/local/lib/python3.10/dist-packages (from tensorflow) (24.3.25)\n",
            "Requirement already satisfied: gast!=0.5.0,!=0.5.1,!=0.5.2,>=0.2.1 in /usr/local/lib/python3.10/dist-packages (from tensorflow) (0.6.0)\n",
            "Requirement already satisfied: google-pasta>=0.1.1 in /usr/local/lib/python3.10/dist-packages (from tensorflow) (0.2.0)\n",
            "Requirement already satisfied: h5py>=3.10.0 in /usr/local/lib/python3.10/dist-packages (from tensorflow) (3.12.1)\n",
            "Requirement already satisfied: libclang>=13.0.0 in /usr/local/lib/python3.10/dist-packages (from tensorflow) (18.1.1)\n",
            "Requirement already satisfied: ml-dtypes<0.5.0,>=0.3.1 in /usr/local/lib/python3.10/dist-packages (from tensorflow) (0.4.1)\n",
            "Requirement already satisfied: opt-einsum>=2.3.2 in /usr/local/lib/python3.10/dist-packages (from tensorflow) (3.4.0)\n",
            "Requirement already satisfied: packaging in /usr/local/lib/python3.10/dist-packages (from tensorflow) (24.2)\n",
            "Requirement already satisfied: protobuf!=4.21.0,!=4.21.1,!=4.21.2,!=4.21.3,!=4.21.4,!=4.21.5,<5.0.0dev,>=3.20.3 in /usr/local/lib/python3.10/dist-packages (from tensorflow) (4.25.5)\n",
            "Requirement already satisfied: requests<3,>=2.21.0 in /usr/local/lib/python3.10/dist-packages (from tensorflow) (2.32.3)\n",
            "Requirement already satisfied: setuptools in /usr/local/lib/python3.10/dist-packages (from tensorflow) (75.1.0)\n",
            "Requirement already satisfied: six>=1.12.0 in /usr/local/lib/python3.10/dist-packages (from tensorflow) (1.17.0)\n",
            "Requirement already satisfied: termcolor>=1.1.0 in /usr/local/lib/python3.10/dist-packages (from tensorflow) (2.5.0)\n",
            "Requirement already satisfied: typing-extensions>=3.6.6 in /usr/local/lib/python3.10/dist-packages (from tensorflow) (4.12.2)\n",
            "Requirement already satisfied: wrapt>=1.11.0 in /usr/local/lib/python3.10/dist-packages (from tensorflow) (1.17.0)\n",
            "Requirement already satisfied: grpcio<2.0,>=1.24.3 in /usr/local/lib/python3.10/dist-packages (from tensorflow) (1.68.1)\n",
            "Requirement already satisfied: tensorboard<2.18,>=2.17 in /usr/local/lib/python3.10/dist-packages (from tensorflow) (2.17.1)\n",
            "Requirement already satisfied: keras>=3.2.0 in /usr/local/lib/python3.10/dist-packages (from tensorflow) (3.5.0)\n",
            "Requirement already satisfied: tensorflow-io-gcs-filesystem>=0.23.1 in /usr/local/lib/python3.10/dist-packages (from tensorflow) (0.37.1)\n",
            "Requirement already satisfied: numpy<2.0.0,>=1.23.5 in /usr/local/lib/python3.10/dist-packages (from tensorflow) (1.26.4)\n",
            "Requirement already satisfied: wheel<1.0,>=0.23.0 in /usr/local/lib/python3.10/dist-packages (from astunparse>=1.6.0->tensorflow) (0.45.1)\n",
            "Requirement already satisfied: rich in /usr/local/lib/python3.10/dist-packages (from keras>=3.2.0->tensorflow) (13.9.4)\n",
            "Requirement already satisfied: namex in /usr/local/lib/python3.10/dist-packages (from keras>=3.2.0->tensorflow) (0.0.8)\n",
            "Requirement already satisfied: optree in /usr/local/lib/python3.10/dist-packages (from keras>=3.2.0->tensorflow) (0.13.1)\n",
            "Requirement already satisfied: charset-normalizer<4,>=2 in /usr/local/lib/python3.10/dist-packages (from requests<3,>=2.21.0->tensorflow) (3.4.0)\n",
            "Requirement already satisfied: idna<4,>=2.5 in /usr/local/lib/python3.10/dist-packages (from requests<3,>=2.21.0->tensorflow) (3.10)\n",
            "Requirement already satisfied: urllib3<3,>=1.21.1 in /usr/local/lib/python3.10/dist-packages (from requests<3,>=2.21.0->tensorflow) (2.2.3)\n",
            "Requirement already satisfied: certifi>=2017.4.17 in /usr/local/lib/python3.10/dist-packages (from requests<3,>=2.21.0->tensorflow) (2024.8.30)\n",
            "Requirement already satisfied: markdown>=2.6.8 in /usr/local/lib/python3.10/dist-packages (from tensorboard<2.18,>=2.17->tensorflow) (3.7)\n",
            "Requirement already satisfied: tensorboard-data-server<0.8.0,>=0.7.0 in /usr/local/lib/python3.10/dist-packages (from tensorboard<2.18,>=2.17->tensorflow) (0.7.2)\n",
            "Requirement already satisfied: werkzeug>=1.0.1 in /usr/local/lib/python3.10/dist-packages (from tensorboard<2.18,>=2.17->tensorflow) (3.1.3)\n",
            "Requirement already satisfied: MarkupSafe>=2.1.1 in /usr/local/lib/python3.10/dist-packages (from werkzeug>=1.0.1->tensorboard<2.18,>=2.17->tensorflow) (3.0.2)\n",
            "Requirement already satisfied: markdown-it-py>=2.2.0 in /usr/local/lib/python3.10/dist-packages (from rich->keras>=3.2.0->tensorflow) (3.0.0)\n",
            "Requirement already satisfied: pygments<3.0.0,>=2.13.0 in /usr/local/lib/python3.10/dist-packages (from rich->keras>=3.2.0->tensorflow) (2.18.0)\n",
            "Requirement already satisfied: mdurl~=0.1 in /usr/local/lib/python3.10/dist-packages (from markdown-it-py>=2.2.0->rich->keras>=3.2.0->tensorflow) (0.1.2)\n",
            "Requirement already satisfied: torch in /usr/local/lib/python3.10/dist-packages (2.5.1+cu121)\n",
            "Requirement already satisfied: filelock in /usr/local/lib/python3.10/dist-packages (from torch) (3.16.1)\n",
            "Requirement already satisfied: typing-extensions>=4.8.0 in /usr/local/lib/python3.10/dist-packages (from torch) (4.12.2)\n",
            "Requirement already satisfied: networkx in /usr/local/lib/python3.10/dist-packages (from torch) (3.4.2)\n",
            "Requirement already satisfied: jinja2 in /usr/local/lib/python3.10/dist-packages (from torch) (3.1.4)\n",
            "Requirement already satisfied: fsspec in /usr/local/lib/python3.10/dist-packages (from torch) (2024.10.0)\n",
            "Requirement already satisfied: sympy==1.13.1 in /usr/local/lib/python3.10/dist-packages (from torch) (1.13.1)\n",
            "Requirement already satisfied: mpmath<1.4,>=1.1.0 in /usr/local/lib/python3.10/dist-packages (from sympy==1.13.1->torch) (1.3.0)\n",
            "Requirement already satisfied: MarkupSafe>=2.0 in /usr/local/lib/python3.10/dist-packages (from jinja2->torch) (3.0.2)\n",
            "Requirement already satisfied: gymnasium in /usr/local/lib/python3.10/dist-packages (1.0.0)\n",
            "Requirement already satisfied: numpy>=1.21.0 in /usr/local/lib/python3.10/dist-packages (from gymnasium) (1.26.4)\n",
            "Requirement already satisfied: cloudpickle>=1.2.0 in /usr/local/lib/python3.10/dist-packages (from gymnasium) (3.1.0)\n",
            "Requirement already satisfied: typing-extensions>=4.3.0 in /usr/local/lib/python3.10/dist-packages (from gymnasium) (4.12.2)\n",
            "Requirement already satisfied: farama-notifications>=0.0.1 in /usr/local/lib/python3.10/dist-packages (from gymnasium) (0.0.4)\n"
          ]
        }
      ],
      "source": [
        "!pip uninstall -y mujoco-py\n",
        "!pip install mujoco-py==2.1.2.14\n",
        "!pip install tensorflow\n",
        "!pip install torch\n",
        "!pip install gymnasium"
      ]
    },
    {
      "cell_type": "code",
      "source": [
        "import gymnasium as gym\n",
        "import numpy as np\n",
        "import matplotlib.pyplot as plt\n",
        "import pickle\n",
        "import imageio\n",
        "from IPython.display import Video\n",
        "\n",
        "def run(episodes, is_training=True, render=False, alpha=0.9, gamma=0.9, epsilon_decay=0.0001):\n",
        "    # Initialisation de l'environnement avec option de visualisation\n",
        "    env = gym.make('Taxi-v3', render_mode='rgb_array' if render else None)\n",
        "\n",
        "    # Initialisation de la Q-table\n",
        "    if is_training:\n",
        "        q = np.zeros((env.observation_space.n, env.action_space.n))\n",
        "    else:\n",
        "        try:\n",
        "            with open('taxi.pkl', 'rb') as f:\n",
        "                q = pickle.load(f)\n",
        "        except FileNotFoundError:\n",
        "            print(\"Erreur : le fichier 'taxi.pkl' n'a pas été trouvé. Veuillez entraîner le modèle d'abord.\")\n",
        "            return\n",
        "\n",
        "    # Paramètres d'exploration\n",
        "    epsilon = 1.0\n",
        "    rng = np.random.default_rng()\n",
        "\n",
        "    # Pour suivre les récompenses par épisode\n",
        "    rewards_per_episode = np.zeros(episodes)\n",
        "    frames = []  # Pour enregistrer les frames si on rend\n",
        "\n",
        "    for i in range(episodes):\n",
        "        state = env.reset()[0]  # Réinitialisation de l'état\n",
        "        terminated, truncated = False, False\n",
        "        total_rewards = 0  # Récompenses cumulées pour cet épisode\n",
        "\n",
        "        while not terminated and not truncated:\n",
        "            # Sélection de l'action (exploration vs exploitation)\n",
        "            if is_training and rng.random() < epsilon:\n",
        "                action = env.action_space.sample()  # Action aléatoire\n",
        "            else:\n",
        "                action = np.argmax(q[state, :])  # Action optimale basée sur Q-table\n",
        "\n",
        "            # Exécuter l'action et obtenir les résultats\n",
        "            new_state, reward, terminated, truncated, _ = env.step(action)\n",
        "            total_rewards += reward\n",
        "\n",
        "            # Mettre à jour la Q-table si on est en mode entraînement\n",
        "            if is_training:\n",
        "                q[state, action] += alpha * (reward + gamma * np.max(q[new_state, :]) - q[state, action])\n",
        "\n",
        "            state = new_state  # Mettre à jour l'état\n",
        "\n",
        "            # Enregistrer les frames si on rend\n",
        "            if render:\n",
        "                frames.append(env.render())\n",
        "\n",
        "        # Mettre à jour epsilon (réduction progressive de l'exploration)\n",
        "        epsilon = max(epsilon - epsilon_decay, 0)\n",
        "        rewards_per_episode[i] = total_rewards  # Stocker les récompenses pour cet épisode\n",
        "\n",
        "        # Afficher le progrès toutes les 1000 itérations\n",
        "        if is_training and i % 1000 == 0:\n",
        "            print(f\"Épisode {i}, Récompense moyenne (100 derniers épisodes) : {np.mean(rewards_per_episode[max(0, i-100):i])}\")\n",
        "\n",
        "    env.close()\n",
        "\n",
        "    # Sauvegarde de la Q-table après entraînement\n",
        "    if is_training:\n",
        "        with open(\"taxi.pkl\", \"wb\") as f:\n",
        "            pickle.dump(q, f)\n",
        "        print(\"Entraînement terminé et Q-table sauvegardée dans 'taxi.pkl'.\")\n",
        "    else:\n",
        "        # Générer une vidéo si en mode rendu\n",
        "        if render:\n",
        "            video_path = \"taxi_simulation.mp4\"\n",
        "            imageio.mimsave(video_path, frames, fps=15)\n",
        "            print(f\"Vidéo sauvegardée à : {video_path}\")\n",
        "            return video_path\n",
        "\n",
        "# Entraîner l'agent\n",
        "print(\"Début de l'entraînement...\")\n",
        "run(15000, alpha=0.9, gamma=0.9, epsilon_decay=0.0001)\n",
        "\n",
        "# Tester l'agent avec visualisation et enregistrement vidéo\n",
        "print(\"Début du test...\")\n",
        "video_path = run(5, is_training=False, render=True)\n",
        "\n",
        "# Afficher la vidéo\n",
        "if video_path:\n",
        "    Video(video_path, embed=True)\n",
        "\n",
        "# Télécharger la vidéo\n",
        "from google.colab import files\n",
        "files.download(video_path)\n"
      ],
      "metadata": {
        "colab": {
          "base_uri": "https://localhost:8080/",
          "height": 384
        },
        "id": "Je0aw7VI_O2V",
        "outputId": "5523bbe8-aaf2-4347-bc8a-4ce204222a8c"
      },
      "execution_count": 3,
      "outputs": [
        {
          "output_type": "stream",
          "name": "stdout",
          "text": [
            "Début de l'entraînement...\n",
            "Épisode 0, Récompense moyenne (100 derniers épisodes) : nan\n",
            "Épisode 1000, Récompense moyenne (100 derniers épisodes) : -593.0\n",
            "Épisode 2000, Récompense moyenne (100 derniers épisodes) : -269.28\n",
            "Épisode 3000, Récompense moyenne (100 derniers épisodes) : -143.23\n",
            "Épisode 4000, Récompense moyenne (100 derniers épisodes) : -75.08\n",
            "Épisode 5000, Récompense moyenne (100 derniers épisodes) : -47.81\n",
            "Épisode 6000, Récompense moyenne (100 derniers épisodes) : -30.1\n",
            "Épisode 7000, Récompense moyenne (100 derniers épisodes) : -14.98\n",
            "Épisode 8000, Récompense moyenne (100 derniers épisodes) : -6.28\n",
            "Épisode 9000, Récompense moyenne (100 derniers épisodes) : 2.85\n",
            "Épisode 10000, Récompense moyenne (100 derniers épisodes) : 7.96\n",
            "Épisode 11000, Récompense moyenne (100 derniers épisodes) : 7.52\n",
            "Épisode 12000, Récompense moyenne (100 derniers épisodes) : 7.94\n",
            "Épisode 13000, Récompense moyenne (100 derniers épisodes) : 7.81\n",
            "Épisode 14000, Récompense moyenne (100 derniers épisodes) : 7.9\n",
            "Entraînement terminé et Q-table sauvegardée dans 'taxi.pkl'.\n",
            "Début du test...\n"
          ]
        },
        {
          "output_type": "stream",
          "name": "stderr",
          "text": [
            "WARNING:imageio_ffmpeg:IMAGEIO FFMPEG_WRITER WARNING: input image is not divisible by macro_block_size=16, resizing from (550, 350) to (560, 352) to ensure video compatibility with most codecs and players. To prevent resizing, make your input image divisible by the macro_block_size or set the macro_block_size to 1 (risking incompatibility).\n"
          ]
        },
        {
          "output_type": "stream",
          "name": "stdout",
          "text": [
            "Vidéo sauvegardée à : taxi_simulation.mp4\n"
          ]
        },
        {
          "output_type": "display_data",
          "data": {
            "text/plain": [
              "<IPython.core.display.Javascript object>"
            ],
            "application/javascript": [
              "\n",
              "    async function download(id, filename, size) {\n",
              "      if (!google.colab.kernel.accessAllowed) {\n",
              "        return;\n",
              "      }\n",
              "      const div = document.createElement('div');\n",
              "      const label = document.createElement('label');\n",
              "      label.textContent = `Downloading \"${filename}\": `;\n",
              "      div.appendChild(label);\n",
              "      const progress = document.createElement('progress');\n",
              "      progress.max = size;\n",
              "      div.appendChild(progress);\n",
              "      document.body.appendChild(div);\n",
              "\n",
              "      const buffers = [];\n",
              "      let downloaded = 0;\n",
              "\n",
              "      const channel = await google.colab.kernel.comms.open(id);\n",
              "      // Send a message to notify the kernel that we're ready.\n",
              "      channel.send({})\n",
              "\n",
              "      for await (const message of channel.messages) {\n",
              "        // Send a message to notify the kernel that we're ready.\n",
              "        channel.send({})\n",
              "        if (message.buffers) {\n",
              "          for (const buffer of message.buffers) {\n",
              "            buffers.push(buffer);\n",
              "            downloaded += buffer.byteLength;\n",
              "            progress.value = downloaded;\n",
              "          }\n",
              "        }\n",
              "      }\n",
              "      const blob = new Blob(buffers, {type: 'application/binary'});\n",
              "      const a = document.createElement('a');\n",
              "      a.href = window.URL.createObjectURL(blob);\n",
              "      a.download = filename;\n",
              "      div.appendChild(a);\n",
              "      a.click();\n",
              "      div.remove();\n",
              "    }\n",
              "  "
            ]
          },
          "metadata": {}
        },
        {
          "output_type": "display_data",
          "data": {
            "text/plain": [
              "<IPython.core.display.Javascript object>"
            ],
            "application/javascript": [
              "download(\"download_0898be4b-fd23-45f9-8453-397680b76c9b\", \"taxi_simulation.mp4\", 108344)"
            ]
          },
          "metadata": {}
        }
      ]
    }
  ]
}